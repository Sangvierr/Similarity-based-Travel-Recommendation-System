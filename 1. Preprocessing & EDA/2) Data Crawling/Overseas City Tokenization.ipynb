{
 "cells": [
  {
   "cell_type": "code",
   "execution_count": 13,
   "id": "8f6b4522",
   "metadata": {},
   "outputs": [],
   "source": [
    "import pandas as pd\n",
    "import numpy as np\n",
    "import urllib.request\n",
    "import nltk\n",
    "from nltk.corpus import stopwords\n",
    "from nltk.stem import WordNetLemmatizer\n",
    "from sklearn.feature_extraction.text import TfidfVectorizer\n",
    "from sklearn.decomposition import LatentDirichletAllocation\n",
    "import pandas as pd\n",
    "import glob\n",
    "import os\n",
    "\n",
    "from konlpy.tag import Okt\n",
    "okt=Okt()"
   ]
  },
  {
   "cell_type": "code",
   "execution_count": 14,
   "id": "a32cb59b",
   "metadata": {},
   "outputs": [],
   "source": [
    "data = pd.read_csv(\"해외여행지_크롤링.csv\", encoding='utf-8')"
   ]
  },
  {
   "cell_type": "code",
   "execution_count": 8,
   "id": "77e36d14",
   "metadata": {
    "scrolled": true
   },
   "outputs": [
    {
     "data": {
      "text/html": [
       "<div>\n",
       "<style scoped>\n",
       "    .dataframe tbody tr th:only-of-type {\n",
       "        vertical-align: middle;\n",
       "    }\n",
       "\n",
       "    .dataframe tbody tr th {\n",
       "        vertical-align: top;\n",
       "    }\n",
       "\n",
       "    .dataframe thead th {\n",
       "        text-align: right;\n",
       "    }\n",
       "</style>\n",
       "<table border=\"1\" class=\"dataframe\">\n",
       "  <thead>\n",
       "    <tr style=\"text-align: right;\">\n",
       "      <th></th>\n",
       "      <th>내용</th>\n",
       "    </tr>\n",
       "  </thead>\n",
       "  <tbody>\n",
       "    <tr>\n",
       "      <th>10000</th>\n",
       "      <td>영국 런던 여행 Day 2 (1) -피쉬앤칩스 맛집, V&amp;A 빅토리아앤알버트 박물관...</td>\n",
       "    </tr>\n",
       "    <tr>\n",
       "      <th>10001</th>\n",
       "      <td>런던에는 공항이 여러개 있어서, 런던행\\n비행기 티켓 발권 하실때, 잘보고 구입\\n...</td>\n",
       "    </tr>\n",
       "    <tr>\n",
       "      <th>10002</th>\n",
       "      <td>런던베이글뮤지엄 도산점 🥯🇬🇧\\nLondon Bagle Museum\\n평일 웨이팅 ...</td>\n",
       "    </tr>\n",
       "    <tr>\n",
       "      <th>10003</th>\n",
       "      <td>안녕하세요~ 모니카입니다.\\n저녁에 제법 쌀쌀합니다. 내일 제주여행에 갈 짐을 싸야...</td>\n",
       "    </tr>\n",
       "    <tr>\n",
       "      <th>10004</th>\n",
       "      <td>안국역(북촌) 인산인해 베이글\\n런던베이글 뮤지엄\\n50m\\n© NAVER Corp...</td>\n",
       "    </tr>\n",
       "    <tr>\n",
       "      <th>...</th>\n",
       "      <td>...</td>\n",
       "    </tr>\n",
       "    <tr>\n",
       "      <th>19995</th>\n",
       "      <td>태국 자유여행 ♡ 치앙마이에서 방콕\\n슬리핑 야간기차 SRT\\n(SPECIAL EX...</td>\n",
       "    </tr>\n",
       "    <tr>\n",
       "      <th>19996</th>\n",
       "      <td>룸피니 공원, 벤짜낏띠 공원\\n7박9일 방콕(&amp;후아힌) 자유여행\\n2022.10.0...</td>\n",
       "    </tr>\n",
       "    <tr>\n",
       "      <th>19997</th>\n",
       "      <td>안녕하세요. 트래블노마드류입니다. 오늘은 동남아여행지 추천 포스팅을 준비해봤습니다....</td>\n",
       "    </tr>\n",
       "    <tr>\n",
       "      <th>19998</th>\n",
       "      <td>☆ 옆지기와 #방콕자유여행 ☆\\n*일정: 2023.2.13~2.17(4박5일)\\n♤...</td>\n",
       "    </tr>\n",
       "    <tr>\n",
       "      <th>19999</th>\n",
       "      <td>3일차\\n하얏트 리젠시 조식\\n숙소 체크아웃\\n빤따리(점심)\\n발마사지\\n부츠(Bo...</td>\n",
       "    </tr>\n",
       "  </tbody>\n",
       "</table>\n",
       "<p>10000 rows × 1 columns</p>\n",
       "</div>"
      ],
      "text/plain": [
       "                                                      내용\n",
       "10000  영국 런던 여행 Day 2 (1) -피쉬앤칩스 맛집, V&A 빅토리아앤알버트 박물관...\n",
       "10001  런던에는 공항이 여러개 있어서, 런던행\\n비행기 티켓 발권 하실때, 잘보고 구입\\n...\n",
       "10002  런던베이글뮤지엄 도산점 🥯🇬🇧\\nLondon Bagle Museum\\n평일 웨이팅 ...\n",
       "10003  안녕하세요~ 모니카입니다.\\n저녁에 제법 쌀쌀합니다. 내일 제주여행에 갈 짐을 싸야...\n",
       "10004  안국역(북촌) 인산인해 베이글\\n런던베이글 뮤지엄\\n50m\\n© NAVER Corp...\n",
       "...                                                  ...\n",
       "19995  태국 자유여행 ♡ 치앙마이에서 방콕\\n슬리핑 야간기차 SRT\\n(SPECIAL EX...\n",
       "19996  룸피니 공원, 벤짜낏띠 공원\\n7박9일 방콕(&후아힌) 자유여행\\n2022.10.0...\n",
       "19997  안녕하세요. 트래블노마드류입니다. 오늘은 동남아여행지 추천 포스팅을 준비해봤습니다....\n",
       "19998  ☆ 옆지기와 #방콕자유여행 ☆\\n*일정: 2023.2.13~2.17(4박5일)\\n♤...\n",
       "19999  3일차\\n하얏트 리젠시 조식\\n숙소 체크아웃\\n빤따리(점심)\\n발마사지\\n부츠(Bo...\n",
       "\n",
       "[10000 rows x 1 columns]"
      ]
     },
     "execution_count": 8,
     "metadata": {},
     "output_type": "execute_result"
    }
   ],
   "source": [
    "text = data[['내용']].iloc[10000:20000] #범위 설정\n",
    "text"
   ]
  },
  {
   "cell_type": "code",
   "execution_count": null,
   "id": "7a8c48cb",
   "metadata": {},
   "outputs": [],
   "source": []
  },
  {
   "cell_type": "markdown",
   "id": "c5ccf3f5",
   "metadata": {},
   "source": [
    "### 명사 토큰화"
   ]
  },
  {
   "cell_type": "code",
   "execution_count": 9,
   "id": "1260d94b",
   "metadata": {},
   "outputs": [],
   "source": [
    "text['내용'] = text.apply(lambda row: okt.nouns(row['내용']), axis=1)"
   ]
  },
  {
   "cell_type": "code",
   "execution_count": 10,
   "id": "86c000be",
   "metadata": {
    "scrolled": true
   },
   "outputs": [
    {
     "data": {
      "text/html": [
       "<div>\n",
       "<style scoped>\n",
       "    .dataframe tbody tr th:only-of-type {\n",
       "        vertical-align: middle;\n",
       "    }\n",
       "\n",
       "    .dataframe tbody tr th {\n",
       "        vertical-align: top;\n",
       "    }\n",
       "\n",
       "    .dataframe thead th {\n",
       "        text-align: right;\n",
       "    }\n",
       "</style>\n",
       "<table border=\"1\" class=\"dataframe\">\n",
       "  <thead>\n",
       "    <tr style=\"text-align: right;\">\n",
       "      <th></th>\n",
       "      <th>내용</th>\n",
       "    </tr>\n",
       "  </thead>\n",
       "  <tbody>\n",
       "    <tr>\n",
       "      <th>10000</th>\n",
       "      <td>[영국, 런던, 여행, 피쉬앤칩스, 맛집, 빅토리아, 앤, 알버트, 박물관, 유럽,...</td>\n",
       "    </tr>\n",
       "    <tr>\n",
       "      <th>10001</th>\n",
       "      <td>[런던, 공항, 개, 런던, 행, 비행기, 티켓, 발권, 때, 구입, 해, 런던, ...</td>\n",
       "    </tr>\n",
       "    <tr>\n",
       "      <th>10002</th>\n",
       "      <td>[런던, 베이글, 뮤, 지엄, 도산, 점, 평일, 웨이, 팅, 포장, 메뉴, 가격,...</td>\n",
       "    </tr>\n",
       "    <tr>\n",
       "      <th>10003</th>\n",
       "      <td>[모니카, 저녁, 제법, 내일, 여행, 짐, 짐, 무거워, 질, 것, 제주도, 거,...</td>\n",
       "    </tr>\n",
       "    <tr>\n",
       "      <th>10004</th>\n",
       "      <td>[안국역, 북촌, 인산인해, 베이글, 런던, 베이글, 뮤, 지엄, 런던, 베이글, ...</td>\n",
       "    </tr>\n",
       "    <tr>\n",
       "      <th>...</th>\n",
       "      <td>...</td>\n",
       "    </tr>\n",
       "    <tr>\n",
       "      <th>19995</th>\n",
       "      <td>[태국, 자유여행, 치앙마이, 방콕, 슬, 리핑, 야간, 기차, 후기, 여행, 포스...</td>\n",
       "    </tr>\n",
       "    <tr>\n",
       "      <th>19996</th>\n",
       "      <td>[룸피, 공원, 벤짜낏띠, 공원, 박, 방콕, 후아힌, 자유여행, 일, 월, 이번,...</td>\n",
       "    </tr>\n",
       "    <tr>\n",
       "      <th>19997</th>\n",
       "      <td>[트래블, 노마, 드류, 오늘, 동남아, 여행지, 추천, 포스팅, 준비, 동남아, ...</td>\n",
       "    </tr>\n",
       "    <tr>\n",
       "      <th>19998</th>\n",
       "      <td>[옆, 지기, 일정, 박, 여행, 기내, 단상, 출발, 인천, 공항, 항공, 도착,...</td>\n",
       "    </tr>\n",
       "    <tr>\n",
       "      <th>19999</th>\n",
       "      <td>[하얏트, 리젠시, 조식, 숙소, 체크아웃, 따리, 점심, 발, 마사지, 부츠, 쇼...</td>\n",
       "    </tr>\n",
       "  </tbody>\n",
       "</table>\n",
       "<p>10000 rows × 1 columns</p>\n",
       "</div>"
      ],
      "text/plain": [
       "                                                      내용\n",
       "10000  [영국, 런던, 여행, 피쉬앤칩스, 맛집, 빅토리아, 앤, 알버트, 박물관, 유럽,...\n",
       "10001  [런던, 공항, 개, 런던, 행, 비행기, 티켓, 발권, 때, 구입, 해, 런던, ...\n",
       "10002  [런던, 베이글, 뮤, 지엄, 도산, 점, 평일, 웨이, 팅, 포장, 메뉴, 가격,...\n",
       "10003  [모니카, 저녁, 제법, 내일, 여행, 짐, 짐, 무거워, 질, 것, 제주도, 거,...\n",
       "10004  [안국역, 북촌, 인산인해, 베이글, 런던, 베이글, 뮤, 지엄, 런던, 베이글, ...\n",
       "...                                                  ...\n",
       "19995  [태국, 자유여행, 치앙마이, 방콕, 슬, 리핑, 야간, 기차, 후기, 여행, 포스...\n",
       "19996  [룸피, 공원, 벤짜낏띠, 공원, 박, 방콕, 후아힌, 자유여행, 일, 월, 이번,...\n",
       "19997  [트래블, 노마, 드류, 오늘, 동남아, 여행지, 추천, 포스팅, 준비, 동남아, ...\n",
       "19998  [옆, 지기, 일정, 박, 여행, 기내, 단상, 출발, 인천, 공항, 항공, 도착,...\n",
       "19999  [하얏트, 리젠시, 조식, 숙소, 체크아웃, 따리, 점심, 발, 마사지, 부츠, 쇼...\n",
       "\n",
       "[10000 rows x 1 columns]"
      ]
     },
     "execution_count": 10,
     "metadata": {},
     "output_type": "execute_result"
    }
   ],
   "source": [
    "text"
   ]
  },
  {
   "cell_type": "code",
   "execution_count": 12,
   "id": "c1a7c1bb",
   "metadata": {},
   "outputs": [],
   "source": [
    "text.to_csv(\"10000~20000해외여행지_토큰화.csv\", encoding=\"utf-8\", index=False)"
   ]
  }
 ],
 "metadata": {
  "kernelspec": {
   "display_name": "Python 3 (ipykernel)",
   "language": "python",
   "name": "python3"
  },
  "language_info": {
   "codemirror_mode": {
    "name": "ipython",
    "version": 3
   },
   "file_extension": ".py",
   "mimetype": "text/x-python",
   "name": "python",
   "nbconvert_exporter": "python",
   "pygments_lexer": "ipython3",
   "version": "3.9.15"
  }
 },
 "nbformat": 4,
 "nbformat_minor": 5
}
